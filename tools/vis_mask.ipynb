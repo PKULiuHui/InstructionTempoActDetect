{
 "cells": [
  {
   "cell_type": "code",
   "execution_count": 1,
   "metadata": {
    "scrolled": false
   },
   "outputs": [
    {
     "ename": "UnpicklingError",
     "evalue": "invalid load key, '{'.",
     "output_type": "error",
     "traceback": [
      "\u001b[1;31m---------------------------------------------------------------------------\u001b[0m",
      "\u001b[1;31mUnpicklingError\u001b[0m                           Traceback (most recent call last)",
      "\u001b[1;32m<ipython-input-1-f7323375b69a>\u001b[0m in \u001b[0;36m<module>\u001b[1;34m()\u001b[0m\n\u001b[0;32m      6\u001b[0m \u001b[0mdata_path\u001b[0m \u001b[1;33m=\u001b[0m \u001b[1;34m'../../yc2/val_yc2.json'\u001b[0m\u001b[1;33m\u001b[0m\u001b[0m\n\u001b[0;32m      7\u001b[0m \u001b[1;33m\u001b[0m\u001b[0m\n\u001b[1;32m----> 8\u001b[1;33m \u001b[0mdata_point\u001b[0m \u001b[1;33m=\u001b[0m \u001b[0mtorch\u001b[0m\u001b[1;33m.\u001b[0m\u001b[0mload\u001b[0m\u001b[1;33m(\u001b[0m\u001b[0mdata_path\u001b[0m\u001b[1;33m)\u001b[0m\u001b[1;33m.\u001b[0m\u001b[0mnumpy\u001b[0m\u001b[1;33m(\u001b[0m\u001b[1;33m)\u001b[0m\u001b[1;33m\u001b[0m\u001b[0m\n\u001b[0m\u001b[0;32m      9\u001b[0m \u001b[0mprint\u001b[0m\u001b[1;33m(\u001b[0m\u001b[0mdata_point\u001b[0m\u001b[1;33m.\u001b[0m\u001b[0mshape\u001b[0m\u001b[1;33m)\u001b[0m\u001b[1;33m\u001b[0m\u001b[0m\n\u001b[0;32m     10\u001b[0m \u001b[1;33m\u001b[0m\u001b[0m\n",
      "\u001b[1;32m~\\Anaconda3\\lib\\site-packages\\torch\\serialization.py\u001b[0m in \u001b[0;36mload\u001b[1;34m(f, map_location, pickle_module, **pickle_load_args)\u001b[0m\n\u001b[0;32m    424\u001b[0m         \u001b[1;32mif\u001b[0m \u001b[0msys\u001b[0m\u001b[1;33m.\u001b[0m\u001b[0mversion_info\u001b[0m \u001b[1;33m>=\u001b[0m \u001b[1;33m(\u001b[0m\u001b[1;36m3\u001b[0m\u001b[1;33m,\u001b[0m \u001b[1;36m0\u001b[0m\u001b[1;33m)\u001b[0m \u001b[1;32mand\u001b[0m \u001b[1;34m'encoding'\u001b[0m \u001b[1;32mnot\u001b[0m \u001b[1;32min\u001b[0m \u001b[0mpickle_load_args\u001b[0m\u001b[1;33m.\u001b[0m\u001b[0mkeys\u001b[0m\u001b[1;33m(\u001b[0m\u001b[1;33m)\u001b[0m\u001b[1;33m:\u001b[0m\u001b[1;33m\u001b[0m\u001b[0m\n\u001b[0;32m    425\u001b[0m             \u001b[0mpickle_load_args\u001b[0m\u001b[1;33m[\u001b[0m\u001b[1;34m'encoding'\u001b[0m\u001b[1;33m]\u001b[0m \u001b[1;33m=\u001b[0m \u001b[1;34m'utf-8'\u001b[0m\u001b[1;33m\u001b[0m\u001b[0m\n\u001b[1;32m--> 426\u001b[1;33m         \u001b[1;32mreturn\u001b[0m \u001b[0m_load\u001b[0m\u001b[1;33m(\u001b[0m\u001b[0mf\u001b[0m\u001b[1;33m,\u001b[0m \u001b[0mmap_location\u001b[0m\u001b[1;33m,\u001b[0m \u001b[0mpickle_module\u001b[0m\u001b[1;33m,\u001b[0m \u001b[1;33m**\u001b[0m\u001b[0mpickle_load_args\u001b[0m\u001b[1;33m)\u001b[0m\u001b[1;33m\u001b[0m\u001b[0m\n\u001b[0m\u001b[0;32m    427\u001b[0m     \u001b[1;32mfinally\u001b[0m\u001b[1;33m:\u001b[0m\u001b[1;33m\u001b[0m\u001b[0m\n\u001b[0;32m    428\u001b[0m         \u001b[1;32mif\u001b[0m \u001b[0mnew_fd\u001b[0m\u001b[1;33m:\u001b[0m\u001b[1;33m\u001b[0m\u001b[0m\n",
      "\u001b[1;32m~\\Anaconda3\\lib\\site-packages\\torch\\serialization.py\u001b[0m in \u001b[0;36m_load\u001b[1;34m(f, map_location, pickle_module, **pickle_load_args)\u001b[0m\n\u001b[0;32m    601\u001b[0m             \u001b[0mf\u001b[0m\u001b[1;33m.\u001b[0m\u001b[0mseek\u001b[0m\u001b[1;33m(\u001b[0m\u001b[1;36m0\u001b[0m\u001b[1;33m)\u001b[0m\u001b[1;33m\u001b[0m\u001b[0m\n\u001b[0;32m    602\u001b[0m \u001b[1;33m\u001b[0m\u001b[0m\n\u001b[1;32m--> 603\u001b[1;33m     \u001b[0mmagic_number\u001b[0m \u001b[1;33m=\u001b[0m \u001b[0mpickle_module\u001b[0m\u001b[1;33m.\u001b[0m\u001b[0mload\u001b[0m\u001b[1;33m(\u001b[0m\u001b[0mf\u001b[0m\u001b[1;33m,\u001b[0m \u001b[1;33m**\u001b[0m\u001b[0mpickle_load_args\u001b[0m\u001b[1;33m)\u001b[0m\u001b[1;33m\u001b[0m\u001b[0m\n\u001b[0m\u001b[0;32m    604\u001b[0m     \u001b[1;32mif\u001b[0m \u001b[0mmagic_number\u001b[0m \u001b[1;33m!=\u001b[0m \u001b[0mMAGIC_NUMBER\u001b[0m\u001b[1;33m:\u001b[0m\u001b[1;33m\u001b[0m\u001b[0m\n\u001b[0;32m    605\u001b[0m         \u001b[1;32mraise\u001b[0m \u001b[0mRuntimeError\u001b[0m\u001b[1;33m(\u001b[0m\u001b[1;34m\"Invalid magic number; corrupt file?\"\u001b[0m\u001b[1;33m)\u001b[0m\u001b[1;33m\u001b[0m\u001b[0m\n",
      "\u001b[1;31mUnpicklingError\u001b[0m: invalid load key, '{'."
     ]
    }
   ],
   "source": [
    "import torch\n",
    "import numpy as np\n",
    "from matplotlib import pyplot as plt\n",
    "\n",
    "mode = 'validation'\n",
    "data_path = '../vis/val/426.0.dat'\n",
    "\n",
    "data_point = torch.load(data_path).numpy()\n",
    "print(data_point.shape)\n",
    "\n",
    "if mode == 'validation':\n",
    "    vid_len = 480\n",
    "    mask = data_point[:, :vid_len]\n",
    "    final = data_point[:, vid_len:vid_len*2]\n",
    "    bound = data_point[:, vid_len*2:]\n",
    "\n",
    "    for ind in range(1, data_point.shape[0], 1):\n",
    "        f, axarr = plt.subplots(2, sharex=True, figsize=(16,6))\n",
    "        axarr[0].plot(mask[ind, :], label=\"differentiable mask (eq. 14)\", linewidth=3)\n",
    "        axarr[1].plot(final[ind, :], color='#ff8c00', label=\"gated mask (eq. 17)\", linewidth=3)\n",
    "        axarr[0].set_title('Visualization of differentiable mask and gated mask', fontsize=16)\n",
    "        axarr[0].set_ylabel('mask magnitude', fontsize=14)\n",
    "        axarr[1].set_xlabel('frame index (window size = 480)', fontsize=16)\n",
    "        axarr[1].set_ylabel('mask magnitude', fontsize=14)\n",
    "        axarr[0].legend(loc='upper right', fontsize='x-large')\n",
    "        axarr[1].legend(loc='upper right', fontsize='x-large')\n",
    "        # plt.figure(figsize=(16, 3))\n",
    "        # plt.plot(mask[ind, :], label=\"learned mask\")\n",
    "        # plt.plot(final[ind, :], label=\"final mask\")\n",
    "        \n",
    "        # plt.plot(bound[ind, [0,0,1,1]], [0,1,1,0], marker='o', label=\"anchor window\")\n",
    "        # plt.plot(bound[ind, [2,2,3,3]], [0,1,1,0], marker='x', label=\"offset-based window\")\n",
    "        plt.xlim([0, 480])\n",
    "        # plt.xlabel(\"frame index (window size is 480)\", fontsize=\"x-large\")\n",
    "        # plt.ylabel(\"mask magnitude\", fontsize=\"x-large\")\n",
    "        # plt.legend(fontsize=\"x-large\")\n",
    "        plt.show()     \n",
    "else:\n",
    "    vid_len = 480\n",
    "    mask = data_point[:, :vid_len]\n",
    "    gt = data_point[:, vid_len:vid_len*2]\n",
    "    bound = data_point[:, vid_len*2:]\n",
    "\n",
    "    for ind in range(1, data_point.shape[0], 1):\n",
    "        plt.figure(figsize=(16, 3))\n",
    "        plt.plot(mask[ind, :])\n",
    "        plt.plot(1.1*gt[ind, :])\n",
    "        plt.plot(bound[ind, [0,0,1,1]], [0,1,1,0], marker='o')\n",
    "        plt.plot(bound[ind, [2,2,3,3]], [0,1,1,0], marker='x')\n",
    "        plt.xlim([0, 480])\n",
    "        plt.xlabel(\"frame index (window size is 480)\")\n",
    "        plt.ylabel(\"mask magnitude\")\n",
    "        plt.show()        "
   ]
  },
  {
   "cell_type": "code",
   "execution_count": 85,
   "metadata": {},
   "outputs": [
    {
     "name": "stdout",
     "output_type": "stream",
     "text": [
      "[[  2.00000000e+01   2.31000000e+02   1.01141205e+01   2.45435623e+02]\n",
      " [  1.32000000e+02   2.93000000e+02   1.22959846e+02   2.93957306e+02]\n",
      " [  1.92000000e+02   3.53000000e+02   2.05340057e+02   3.41939728e+02]\n",
      " [  1.40000000e+02   3.51000000e+02   1.47582611e+02   3.83385956e+02]\n",
      " [  2.48000000e+02   4.09000000e+02   2.58633484e+02   4.24982910e+02]\n",
      " [  1.20000000e+01   1.73000000e+02   1.81219406e+01   1.37454498e+02]\n",
      " [  4.40000000e+01   2.05000000e+02   5.07387695e+01   1.98644730e+02]\n",
      " [  4.80000000e+01   2.99000000e+02   3.57919769e+01   3.25562378e+02]\n",
      " [  1.56000000e+02   3.17000000e+02   1.64964142e+02   3.06920532e+02]\n",
      " [  7.20000000e+01   2.33000000e+02   9.34164429e+01   2.28004303e+02]\n",
      " [  2.16000000e+02   3.77000000e+02   2.22094940e+02   3.77673065e+02]\n",
      " [  0.00000000e+00   1.11000000e+02   5.39256287e+00   1.06142738e+02]\n",
      " [  1.02000000e+02   3.53000000e+02   7.34800873e+01   4.17012512e+02]\n",
      " [  3.12000000e+02   4.23000000e+02   3.10662781e+02   4.13500732e+02]\n",
      " [  1.32000000e+02   2.43000000e+02   1.31034943e+02   2.38175964e+02]\n",
      " [  1.56000000e+02   2.67000000e+02   1.51769043e+02   2.65232330e+02]\n",
      " [  2.67000000e+02   3.78000000e+02   2.68714539e+02   3.77251465e+02]\n",
      " [  5.10000000e+01   1.62000000e+02   4.15757065e+01   1.57912048e+02]\n",
      " [  2.85000000e+02   3.96000000e+02   2.88177704e+02   3.97225800e+02]\n",
      " [  3.54000000e+02   4.25000000e+02   3.49422180e+02   4.19139038e+02]\n",
      " [  1.00000000e+00   4.20000000e+01   2.84164429e-01   4.19705658e+01]\n",
      " [  3.68000000e+02   4.25000000e+02   3.70476135e+02   4.25186462e+02]\n",
      " [  0.00000000e+00   5.00000000e+00   3.49208355e-01   5.05164099e+00]\n",
      " [  0.00000000e+00   1.50000000e+01   4.01385307e-01   1.52939491e+01]\n",
      " [  3.69000000e+02   4.10000000e+02   3.66164978e+02   4.10340881e+02]\n",
      " [  3.42000000e+02   3.99000000e+02   3.42712982e+02   4.01502655e+02]\n",
      " [  3.30000000e+02   3.87000000e+02   3.27165192e+02   3.93648590e+02]\n",
      " [  9.60000000e+01   1.67000000e+02   8.55482025e+01   1.76775406e+02]\n",
      " [  0.00000000e+00   1.10000000e+01   1.06735897e+00   1.03202744e+01]\n",
      " [  1.22000000e+02   1.93000000e+02   1.13757263e+02   2.01297974e+02]\n",
      " [  4.02000000e+02   4.23000000e+02   4.03394684e+02   4.25660248e+02]\n",
      " [  6.60000000e+01   1.23000000e+02   5.65966644e+01   1.36794571e+02]\n",
      " [  4.40000000e+01   1.01000000e+02   3.39246445e+01   1.12477165e+02]\n",
      " [  3.93000000e+02   4.22000000e+02   3.92894501e+02   4.24892914e+02]\n",
      " [  1.58000000e+02   2.15000000e+02   1.54768280e+02   2.27956299e+02]\n",
      " [  4.09000000e+02   4.24000000e+02   4.10791718e+02   4.24884003e+02]\n",
      " [  8.40000000e+01   1.41000000e+02   7.39817963e+01   1.54479614e+02]\n",
      " [  3.54000000e+02   3.95000000e+02   3.55737976e+02   3.93514038e+02]\n",
      " [  2.60000000e+02   3.31000000e+02   2.51747437e+02   3.42068420e+02]\n",
      " [  3.87000000e+02   4.08000000e+02   3.87192810e+02   4.11576477e+02]\n",
      " [  1.44000000e+02   2.01000000e+02   1.37643997e+02   2.12102524e+02]\n",
      " [  1.50000000e+01   5.60000000e+01   4.07901955e+00   5.68415756e+01]\n",
      " [  3.73000000e+02   4.02000000e+02   3.74662811e+02   4.06124664e+02]\n",
      " [  2.12000000e+02   2.83000000e+02   2.00624329e+02   2.97041168e+02]\n",
      " [  1.92000000e+02   2.63000000e+02   1.83159653e+02   2.73015015e+02]\n",
      " [  1.76000000e+02   2.33000000e+02   1.68119278e+02   2.40813187e+02]\n",
      " [  3.14000000e+02   3.71000000e+02   3.05348938e+02   3.80438171e+02]\n",
      " [  1.80000000e+01   7.50000000e+01   2.91716385e+00   8.23115997e+01]\n",
      " [  2.40000000e+01   8.10000000e+01   1.64374962e+01   9.13692932e+01]\n",
      " [  2.46000000e+02   3.17000000e+02   2.35005234e+02   3.27265686e+02]]\n"
     ]
    }
   ],
   "source": [
    "print(bound)"
   ]
  },
  {
   "cell_type": "code",
   "execution_count": null,
   "metadata": {},
   "outputs": [],
   "source": []
  }
 ],
 "metadata": {
  "kernelspec": {
   "display_name": "Python 3",
   "language": "python",
   "name": "python3"
  },
  "language_info": {
   "codemirror_mode": {
    "name": "ipython",
    "version": 3
   },
   "file_extension": ".py",
   "mimetype": "text/x-python",
   "name": "python",
   "nbconvert_exporter": "python",
   "pygments_lexer": "ipython3",
   "version": "3.7.0"
  }
 },
 "nbformat": 4,
 "nbformat_minor": 2
}
